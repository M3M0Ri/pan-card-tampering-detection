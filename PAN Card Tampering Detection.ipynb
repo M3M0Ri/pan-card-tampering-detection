{
  "nbformat": 4,
  "nbformat_minor": 0,
  "metadata": {
    "colab": {
      "provenance": [],
      "gpuType": "T4",
      "authorship_tag": "ABX9TyOiITrmp59SELAW15S7pRr3"
    },
    "kernelspec": {
      "name": "python3",
      "display_name": "Python 3"
    },
    "language_info": {
      "name": "python"
    },
    "accelerator": "GPU"
  },
  "cells": [
    {
      "cell_type": "code",
      "source": [
        "from skimage.metrics import structural_similarity\n",
        "import imutils\n",
        "import cv2\n",
        "from PIL import Image\n",
        "import requests"
      ],
      "metadata": {
        "id": "6tcKs1oZKbAS"
      },
      "execution_count": 4,
      "outputs": []
    },
    {
      "cell_type": "code",
      "source": [
        "!mkdir pan_card_tempering\n",
        "!mkdir pan_card_tempering/image"
      ],
      "metadata": {
        "id": "3WELQzazLAo4"
      },
      "execution_count": 5,
      "outputs": []
    },
    {
      "cell_type": "code",
      "source": [
        "original = Image.open(requests.get(\"https://www.thestatesman.com/wp-content/uploads/2019/07/pan-card.jpg\", stream=True).raw)"
      ],
      "metadata": {
        "id": "4bmbHqQcL7pU"
      },
      "execution_count": 7,
      "outputs": []
    },
    {
      "cell_type": "code",
      "source": [],
      "metadata": {
        "id": "1Ba5rPzcM_fH"
      },
      "execution_count": null,
      "outputs": []
    }
  ]
}